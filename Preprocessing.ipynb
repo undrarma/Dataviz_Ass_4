{
 "cells": [
  {
   "cell_type": "code",
   "execution_count": 4,
   "metadata": {},
   "outputs": [],
   "source": [
    "import pandas as pd\n",
    "from datetime import date\n",
    "from datetime import datetime\n",
    "import statistics as stat"
   ]
  },
  {
   "cell_type": "markdown",
   "metadata": {},
   "source": [
    "The data I worked with are stored in a shared Google Drive folder at ... .<br>\n",
    "I did all the transformations using Anaconda and Jupyter Notebook.\n",
    "In the end of this file you can find my code. \n",
    "\n",
    "As a summarization, I processed the file in such a way:\n",
    "<br>\n",
    "- For the years from 2010 to 2014 I stored informations regarding:\n",
    "    - The Overdose Rate from https://www.kff.org/other/state-indicator/opioid-overdose-death-rates/?currentTimeframe=4&selectedRows=%7B%22states%22:%7B%22alabama%22:%7B%7D,%22georgia%22:%7B%7D,%22kentucky%22:%7B%7D,%22mississippi%22:%7B%7D,%22tennessee%22:%7B%7D%7D%7D&sortModel=%7B%22colId%22:%22Location%22,%22sort%22:%22asc%22%7D;\n",
    "    - The Poverty Rate from https://www.povertyusa.org/data/2011/KY;\n",
    "\n",
    "I only considered the states that are part of the **Cotton Belt**:\n",
    "<br>\n",
    "- Alabama;\n",
    "- Georgia;\n",
    "- Kentucky;\n",
    "- Mississipi;\n",
    "- Tennessee;\n",
    "\n",
    "All these data are stored in *us_population_states.csv* <br>\n",
    "Since these are few data, I created the file manually. <br>\n",
    "\n",
    "Once such dataset was ready, I integrated it by store, for each state, the number of pills sold each year. \n",
    "To obtain such information, I downloaded the data regarding these 5 states from https://www.washingtonpost.com/graphics/2019/investigations/dea-pain-pill-database/#download-resources <br>\n",
    "Since the files are big, I split them according to the drug name. Having 2 drugs, I doubled the number of files and halved their size.\n",
    "\n",
    "Once the data are split, I proceeded in the following way:\n",
    "- For every state:\n",
    "    - for each drug name:\n",
    "        - for every year considered:\n",
    "            - Sum all the pills sold\n",
    "    - sum the drug sums\n",
    "    \n",
    "All the operations are stored in Preprocessing.ipynb file. \n",
    "\n",
    "**SIDE NOTE:** I couldn't import the file from the washingtonpost website because they are simply too big.<br>\n",
    "In the Google Drive folder you can find the data cleaned.\n",
    "For every file, the cleaning process was the following:\n",
    "<br>\n",
    "- Remove the columns I won't use;\n",
    "- Split the data between drug type;\n",
    "- Save the different files;\n",
    "\n",
    "After this first step, I imported each file in OpenRefine and I changed the date to maintain only the year. I could have done such operation in Python as well, but OpenRefine is much faster. \n",
    "\n",
    "**SIDE NOTE 2:** additional information regarding how the Overdose situation evolved could be found at: https://www3.nd.edu/~elieber/research/ELP.pdf\n"
   ]
  },
  {
   "cell_type": "markdown",
   "metadata": {},
   "source": [
    "## Import additional data"
   ]
  },
  {
   "cell_type": "code",
   "execution_count": 12,
   "metadata": {},
   "outputs": [],
   "source": [
    "# local rep\n",
    "# add_data = pd.read_csv('DATA_READY' + '/' + 'us_population_states.csv')\n",
    "url = 'https://drive.google.com/file/d/1lEzR8SFV_lB5M1ou9eM6WxCAeR8hmAtt/view?usp=sharing'\n",
    "path = 'https://drive.google.com/uc?export=download&id='+url.split('/')[-2]\n",
    "add_data = pd.read_csv(path)"
   ]
  },
  {
   "cell_type": "markdown",
   "metadata": {},
   "source": [
    "# Kentucky"
   ]
  },
  {
   "cell_type": "markdown",
   "metadata": {},
   "source": [
    "Prepare Oxycodone and Hydrocodone files"
   ]
  },
  {
   "cell_type": "markdown",
   "metadata": {},
   "source": [
    "## The following cell couldn't run because I couldn't upload the file to Google Drive. In the next cell I read the filtered files"
   ]
  },
  {
   "cell_type": "markdown",
   "metadata": {},
   "source": [
    "df = pd.read_csv('arcos-ky-statewide-itemized.csv')\n",
    "\n",
    "df.drop(columns = ['REPORTER_DEA_NO','REPORTER_NAME','REPORTER_ADDL_CO_INFO','REPORTER_ADDRESS1','REPORTER_ADDRESS2','REPORTER_CITY',\n",
    "                  'REPORTER_STATE','REPORTER_ZIP','REPORTER_COUNTY','BUYER_DEA_NO','BUYER_BUS_ACT','REPORTER_BUS_ACT','BUYER_ADDL_CO_INFO',\n",
    "       'BUYER_ADDRESS1', 'BUYER_ADDRESS2', 'BUYER_CITY', 'BUYER_STATE',\n",
    "       'BUYER_ZIP', 'BUYER_COUNTY', 'TRANSACTION_CODE','CORRECTION_NO', 'STRENGTH','CALC_BASE_WT_IN_GM',\n",
    "                  'DOSAGE_UNIT', 'TRANSACTION_ID','Ingredient_Name',\n",
    "   'Measure', 'MME_Conversion_Factor', 'Combined_Labeler_Name','DRUG_CODE',\n",
    "       'Reporter_family', 'dos_str', 'MME','BUYER_NAME','UNIT','NDC_NO','ORDER_FORM_NO','ACTION_INDICATOR','Product_Name'],inplace = True)\n",
    "\n",
    "df_hyd = df.loc[df['DRUG_NAME'] == 'HYDROCODONE']\n",
    "df_oxy = df.loc[df['DRUG_NAME'] != 'HYDROCODONE']\n",
    "\n",
    "df_oxy.to_csv('df_oxy_ky.csv',index = False)\n",
    "df_hyd.to_csv('df_hyd_ky.csv',index = False)"
   ]
  },
  {
   "cell_type": "markdown",
   "metadata": {},
   "source": [
    "Split the files between ages and sum the quantities per year per Oxycodone and Hydrocodone"
   ]
  },
  {
   "cell_type": "code",
   "execution_count": 14,
   "metadata": {},
   "outputs": [],
   "source": [
    "url = 'https://drive.google.com/file/d/1EGKGZFzKB_CmdtOxj_0kbrtKJQjLEUIx/view?usp=sharing'\n",
    "path = 'https://drive.google.com/uc?export=download&id='+url.split('/')[-2]\n",
    "df_oxy_ky = pd.read_csv(path)\n",
    "\n",
    "df_oxy_2010_ky = df_oxy_ky.loc[df_oxy_ky['TRANSACTION_DATE'] == 2010]\n",
    "df_oxy_2011_ky = df_oxy_ky.loc[df_oxy_ky['TRANSACTION_DATE'] == 2011]\n",
    "df_oxy_2012_ky = df_oxy_ky.loc[df_oxy_ky['TRANSACTION_DATE'] == 2012]\n",
    "df_oxy_2013_ky = df_oxy_ky.loc[df_oxy_ky['TRANSACTION_DATE'] == 2013]\n",
    "df_oxy_2014_ky = df_oxy_ky.loc[df_oxy_ky['TRANSACTION_DATE'] == 2014]\n",
    "\n",
    "\n",
    "sum_oxy_2010_ky = sum(df_oxy_2010_ky['QUANTITY'])\n",
    "sum_oxy_2011_ky = sum(df_oxy_2011_ky['QUANTITY'])\n",
    "sum_oxy_2012_ky = sum(df_oxy_2012_ky['QUANTITY'])\n",
    "sum_oxy_2013_ky = sum(df_oxy_2013_ky['QUANTITY'])\n",
    "sum_oxy_2014_ky = sum(df_oxy_2014_ky['QUANTITY'])\n",
    "\n",
    "oxy_ky = [sum_oxy_2010_ky,sum_oxy_2011_ky,sum_oxy_2012_ky,sum_oxy_2013_ky,sum_oxy_2014_ky]\n",
    "\n",
    "url = 'https://drive.google.com/file/d/15lh371-vpfHEEEcACHFGr8VcuOpmxwHJ/view?usp=sharing'\n",
    "path = 'https://drive.google.com/uc?export=download&id='+url.split('/')[-2]\n",
    "df_hyd_ky = pd.read_csv(path)\n",
    "\n",
    "df_hyd_2010_ky = df_hyd_ky.loc[df_hyd_ky['TRANSACTION_DATE'] == 2010]\n",
    "df_hyd_2011_ky = df_hyd_ky.loc[df_hyd_ky['TRANSACTION_DATE'] == 2011]\n",
    "df_hyd_2012_ky = df_hyd_ky.loc[df_hyd_ky['TRANSACTION_DATE'] == 2012]\n",
    "df_hyd_2013_ky = df_hyd_ky.loc[df_hyd_ky['TRANSACTION_DATE'] == 2013]\n",
    "df_hyd_2014_ky = df_hyd_ky.loc[df_hyd_ky['TRANSACTION_DATE'] == 2014]\n",
    "\n",
    "sum_hyd_2010_ky = sum(df_hyd_2010_ky['QUANTITY'])\n",
    "sum_hyd_2011_ky = sum(df_hyd_2011_ky['QUANTITY'])\n",
    "sum_hyd_2012_ky = sum(df_hyd_2012_ky['QUANTITY'])\n",
    "sum_hyd_2013_ky = sum(df_hyd_2013_ky['QUANTITY'])\n",
    "sum_hyd_2014_ky = sum(df_hyd_2014_ky['QUANTITY'])\n",
    "\n",
    "hyd_ky = [sum_hyd_2010_ky,sum_hyd_2011_ky,sum_hyd_2012_ky,sum_hyd_2013_ky,sum_hyd_2014_ky]"
   ]
  },
  {
   "cell_type": "markdown",
   "metadata": {},
   "source": [
    "# Alabama"
   ]
  },
  {
   "cell_type": "markdown",
   "metadata": {},
   "source": [
    "Prepare Oxycodone and Hydrocodone files"
   ]
  },
  {
   "cell_type": "markdown",
   "metadata": {},
   "source": [
    "## The following cell couldn't run because I couldn't upload the file to Google Drive. In the next cell I read the filtered files"
   ]
  },
  {
   "cell_type": "markdown",
   "metadata": {},
   "source": [
    "df = pd.read_csv('arcos-al-statewide-itemized.csv')\n",
    "\n",
    "df.drop(columns = ['REPORTER_DEA_NO','REPORTER_NAME','REPORTER_ADDL_CO_INFO','REPORTER_ADDRESS1','REPORTER_ADDRESS2','REPORTER_CITY',\n",
    "                  'REPORTER_STATE','REPORTER_ZIP','REPORTER_COUNTY','BUYER_DEA_NO','BUYER_BUS_ACT','REPORTER_BUS_ACT','BUYER_ADDL_CO_INFO',\n",
    "       'BUYER_ADDRESS1', 'BUYER_ADDRESS2', 'BUYER_CITY', 'BUYER_STATE',\n",
    "       'BUYER_ZIP', 'BUYER_COUNTY', 'TRANSACTION_CODE','CORRECTION_NO', 'STRENGTH','CALC_BASE_WT_IN_GM',\n",
    "                  'DOSAGE_UNIT', 'TRANSACTION_ID','Ingredient_Name',\n",
    "   'Measure', 'MME_Conversion_Factor', 'Combined_Labeler_Name','DRUG_CODE',\n",
    "       'Reporter_family', 'dos_str', 'MME','BUYER_NAME','UNIT','NDC_NO','ORDER_FORM_NO','ACTION_INDICATOR','Product_Name'],inplace = True)\n",
    "\n",
    "df_hyd = df.loc[df['DRUG_NAME'] == 'HYDROCODONE']\n",
    "df_oxy = df.loc[df['DRUG_NAME'] != 'HYDROCODONE']\n",
    "\n",
    "df_oxy.to_csv('df_oxy_al.csv',index = False)\n",
    "df_hyd.to_csv('df_hyd_al.csv',index = False)"
   ]
  },
  {
   "cell_type": "markdown",
   "metadata": {},
   "source": [
    "Split the files between ages and sum the quantities per year per Oxycodone and Hydrocodone"
   ]
  },
  {
   "cell_type": "code",
   "execution_count": 17,
   "metadata": {},
   "outputs": [],
   "source": [
    "url = 'https://drive.google.com/file/d/1gQUBMeHe5k-BrzblMOhfGdLwdHg3VNSo/view?usp=sharing'\n",
    "path = 'https://drive.google.com/uc?export=download&id='+url.split('/')[-2]\n",
    "df_oxy_al = pd.read_csv(path)\n",
    "\n",
    "df_oxy_2010_al = df_oxy_al.loc[df_oxy_al['TRANSACTION_DATE'] == 2010]\n",
    "df_oxy_2011_al = df_oxy_al.loc[df_oxy_al['TRANSACTION_DATE'] == 2011]\n",
    "df_oxy_2012_al = df_oxy_al.loc[df_oxy_al['TRANSACTION_DATE'] == 2012]\n",
    "df_oxy_2013_al = df_oxy_al.loc[df_oxy_al['TRANSACTION_DATE'] == 2013]\n",
    "df_oxy_2014_al = df_oxy_al.loc[df_oxy_al['TRANSACTION_DATE'] == 2014]\n",
    "\n",
    "\n",
    "sum_oxy_2010_al = sum(df_oxy_2010_al['QUANTITY'])\n",
    "sum_oxy_2011_al = sum(df_oxy_2011_al['QUANTITY'])\n",
    "sum_oxy_2012_al = sum(df_oxy_2012_al['QUANTITY'])\n",
    "sum_oxy_2013_al = sum(df_oxy_2013_al['QUANTITY'])\n",
    "sum_oxy_2014_al = sum(df_oxy_2014_al['QUANTITY'])\n",
    "\n",
    "oxy_al = [sum_oxy_2010_al,sum_oxy_2011_al,sum_oxy_2012_al,sum_oxy_2013_al,sum_oxy_2014_al]\n",
    "\n",
    "url = 'https://drive.google.com/file/d/1q1b360iELkjed3vHncZIf2pHDf70rHbD/view?usp=sharing'\n",
    "path = 'https://drive.google.com/uc?export=download&id='+url.split('/')[-2]\n",
    "df_hyd_al = pd.read_csv(path)\n",
    "\n",
    "df_hyd_2010_al = df_hyd_al.loc[df_hyd_al['TRANSACTION_DATE'] == 2010]\n",
    "df_hyd_2011_al = df_hyd_al.loc[df_hyd_al['TRANSACTION_DATE'] == 2011]\n",
    "df_hyd_2012_al = df_hyd_al.loc[df_hyd_al['TRANSACTION_DATE'] == 2012]\n",
    "df_hyd_2013_al = df_hyd_al.loc[df_hyd_al['TRANSACTION_DATE'] == 2013]\n",
    "df_hyd_2014_al = df_hyd_al.loc[df_hyd_al['TRANSACTION_DATE'] == 2014]\n",
    "\n",
    "sum_hyd_2010_al = sum(df_hyd_2010_al['QUANTITY'])\n",
    "sum_hyd_2011_al = sum(df_hyd_2011_al['QUANTITY'])\n",
    "sum_hyd_2012_al = sum(df_hyd_2012_al['QUANTITY'])\n",
    "sum_hyd_2013_al = sum(df_hyd_2013_al['QUANTITY'])\n",
    "sum_hyd_2014_al = sum(df_hyd_2014_al['QUANTITY'])\n",
    "\n",
    "hyd_al = [sum_hyd_2010_al,sum_hyd_2011_al,sum_hyd_2012_al,sum_hyd_2013_al,sum_hyd_2014_al]"
   ]
  },
  {
   "cell_type": "markdown",
   "metadata": {},
   "source": [
    "# Georgia"
   ]
  },
  {
   "cell_type": "markdown",
   "metadata": {},
   "source": [
    "Prepare Oxycodone and Hydrocodone files"
   ]
  },
  {
   "cell_type": "markdown",
   "metadata": {},
   "source": [
    "## The following cell couldn't run because I couldn't upload the file to Google Drive. In the next cell I read the filtered files"
   ]
  },
  {
   "cell_type": "markdown",
   "metadata": {},
   "source": [
    "df = pd.read_csv('arcos-ga-statewide-itemized.csv')\n",
    "\n",
    "df.drop(columns = ['REPORTER_DEA_NO','REPORTER_NAME','REPORTER_ADDL_CO_INFO','REPORTER_ADDRESS1','REPORTER_ADDRESS2','REPORTER_CITY',\n",
    "                  'REPORTER_STATE','REPORTER_ZIP','REPORTER_COUNTY','BUYER_DEA_NO','BUYER_BUS_ACT','REPORTER_BUS_ACT','BUYER_ADDL_CO_INFO',\n",
    "       'BUYER_ADDRESS1', 'BUYER_ADDRESS2', 'BUYER_CITY', 'BUYER_STATE',\n",
    "       'BUYER_ZIP', 'BUYER_COUNTY', 'TRANSACTION_CODE','CORRECTION_NO', 'STRENGTH','CALC_BASE_WT_IN_GM',\n",
    "                  'DOSAGE_UNIT', 'TRANSACTION_ID','Ingredient_Name',\n",
    "   'Measure', 'MME_Conversion_Factor', 'Combined_Labeler_Name','DRUG_CODE',\n",
    "       'Reporter_family', 'dos_str', 'MME','BUYER_NAME','UNIT','NDC_NO','ORDER_FORM_NO','ACTION_INDICATOR','Product_Name'],inplace = True)\n",
    "\n",
    "df_hyd = df.loc[df['DRUG_NAME'] == 'HYDROCODONE']\n",
    "df_oxy = df.loc[df['DRUG_NAME'] != 'HYDROCODONE']\n",
    "\n",
    "df_oxy.to_csv('df_oxy_ga.csv',index = False)\n",
    "df_hyd.to_csv('df_hyd_ga.csv',index = False)"
   ]
  },
  {
   "cell_type": "markdown",
   "metadata": {},
   "source": [
    "Split the files between ages and sum the quantities per year per Oxycodone and Hydrocodone"
   ]
  },
  {
   "cell_type": "code",
   "execution_count": 26,
   "metadata": {},
   "outputs": [
    {
     "ename": "KeyError",
     "evalue": "'TRANSACTION_DATE'",
     "output_type": "error",
     "traceback": [
      "\u001b[1;31m---------------------------------------------------------------------------\u001b[0m",
      "\u001b[1;31mKeyError\u001b[0m                                  Traceback (most recent call last)",
      "\u001b[1;32m~\\Anaconda3\\envs\\datavis\\lib\\site-packages\\pandas\\core\\indexes\\base.py\u001b[0m in \u001b[0;36mget_loc\u001b[1;34m(self, key, method, tolerance)\u001b[0m\n\u001b[0;32m   2890\u001b[0m             \u001b[1;32mtry\u001b[0m\u001b[1;33m:\u001b[0m\u001b[1;33m\u001b[0m\u001b[1;33m\u001b[0m\u001b[0m\n\u001b[1;32m-> 2891\u001b[1;33m                 \u001b[1;32mreturn\u001b[0m \u001b[0mself\u001b[0m\u001b[1;33m.\u001b[0m\u001b[0m_engine\u001b[0m\u001b[1;33m.\u001b[0m\u001b[0mget_loc\u001b[0m\u001b[1;33m(\u001b[0m\u001b[0mcasted_key\u001b[0m\u001b[1;33m)\u001b[0m\u001b[1;33m\u001b[0m\u001b[1;33m\u001b[0m\u001b[0m\n\u001b[0m\u001b[0;32m   2892\u001b[0m             \u001b[1;32mexcept\u001b[0m \u001b[0mKeyError\u001b[0m \u001b[1;32mas\u001b[0m \u001b[0merr\u001b[0m\u001b[1;33m:\u001b[0m\u001b[1;33m\u001b[0m\u001b[1;33m\u001b[0m\u001b[0m\n",
      "\u001b[1;32mpandas\\_libs\\index.pyx\u001b[0m in \u001b[0;36mpandas._libs.index.IndexEngine.get_loc\u001b[1;34m()\u001b[0m\n",
      "\u001b[1;32mpandas\\_libs\\index.pyx\u001b[0m in \u001b[0;36mpandas._libs.index.IndexEngine.get_loc\u001b[1;34m()\u001b[0m\n",
      "\u001b[1;32mpandas\\_libs\\hashtable_class_helper.pxi\u001b[0m in \u001b[0;36mpandas._libs.hashtable.PyObjectHashTable.get_item\u001b[1;34m()\u001b[0m\n",
      "\u001b[1;32mpandas\\_libs\\hashtable_class_helper.pxi\u001b[0m in \u001b[0;36mpandas._libs.hashtable.PyObjectHashTable.get_item\u001b[1;34m()\u001b[0m\n",
      "\u001b[1;31mKeyError\u001b[0m: 'TRANSACTION_DATE'",
      "\nThe above exception was the direct cause of the following exception:\n",
      "\u001b[1;31mKeyError\u001b[0m                                  Traceback (most recent call last)",
      "\u001b[1;32m<ipython-input-26-ba4f7fbaffcf>\u001b[0m in \u001b[0;36m<module>\u001b[1;34m\u001b[0m\n\u001b[0;32m     25\u001b[0m \u001b[0mdf_hyd_ga\u001b[0m \u001b[1;33m=\u001b[0m \u001b[0mpd\u001b[0m\u001b[1;33m.\u001b[0m\u001b[0mread_csv\u001b[0m\u001b[1;33m(\u001b[0m\u001b[0mpath\u001b[0m\u001b[1;33m)\u001b[0m\u001b[1;33m\u001b[0m\u001b[1;33m\u001b[0m\u001b[0m\n\u001b[0;32m     26\u001b[0m \u001b[1;33m\u001b[0m\u001b[0m\n\u001b[1;32m---> 27\u001b[1;33m \u001b[0mdf_hyd_2010_ga\u001b[0m \u001b[1;33m=\u001b[0m \u001b[0mdf_hyd_ga\u001b[0m\u001b[1;33m.\u001b[0m\u001b[0mloc\u001b[0m\u001b[1;33m[\u001b[0m\u001b[0mdf_hyd_ga\u001b[0m\u001b[1;33m[\u001b[0m\u001b[1;34m'TRANSACTION_DATE'\u001b[0m\u001b[1;33m]\u001b[0m \u001b[1;33m==\u001b[0m \u001b[1;36m2010\u001b[0m\u001b[1;33m]\u001b[0m\u001b[1;33m\u001b[0m\u001b[1;33m\u001b[0m\u001b[0m\n\u001b[0m\u001b[0;32m     28\u001b[0m \u001b[0mdf_hyd_2011_ga\u001b[0m \u001b[1;33m=\u001b[0m \u001b[0mdf_hyd_ga\u001b[0m\u001b[1;33m.\u001b[0m\u001b[0mloc\u001b[0m\u001b[1;33m[\u001b[0m\u001b[0mdf_hyd_ga\u001b[0m\u001b[1;33m[\u001b[0m\u001b[1;34m'TRANSACTION_DATE'\u001b[0m\u001b[1;33m]\u001b[0m \u001b[1;33m==\u001b[0m \u001b[1;36m2011\u001b[0m\u001b[1;33m]\u001b[0m\u001b[1;33m\u001b[0m\u001b[1;33m\u001b[0m\u001b[0m\n\u001b[0;32m     29\u001b[0m \u001b[0mdf_hyd_2012_ga\u001b[0m \u001b[1;33m=\u001b[0m \u001b[0mdf_hyd_ga\u001b[0m\u001b[1;33m.\u001b[0m\u001b[0mloc\u001b[0m\u001b[1;33m[\u001b[0m\u001b[0mdf_hyd_ga\u001b[0m\u001b[1;33m[\u001b[0m\u001b[1;34m'TRANSACTION_DATE'\u001b[0m\u001b[1;33m]\u001b[0m \u001b[1;33m==\u001b[0m \u001b[1;36m2012\u001b[0m\u001b[1;33m]\u001b[0m\u001b[1;33m\u001b[0m\u001b[1;33m\u001b[0m\u001b[0m\n",
      "\u001b[1;32m~\\Anaconda3\\envs\\datavis\\lib\\site-packages\\pandas\\core\\frame.py\u001b[0m in \u001b[0;36m__getitem__\u001b[1;34m(self, key)\u001b[0m\n\u001b[0;32m   2900\u001b[0m             \u001b[1;32mif\u001b[0m \u001b[0mself\u001b[0m\u001b[1;33m.\u001b[0m\u001b[0mcolumns\u001b[0m\u001b[1;33m.\u001b[0m\u001b[0mnlevels\u001b[0m \u001b[1;33m>\u001b[0m \u001b[1;36m1\u001b[0m\u001b[1;33m:\u001b[0m\u001b[1;33m\u001b[0m\u001b[1;33m\u001b[0m\u001b[0m\n\u001b[0;32m   2901\u001b[0m                 \u001b[1;32mreturn\u001b[0m \u001b[0mself\u001b[0m\u001b[1;33m.\u001b[0m\u001b[0m_getitem_multilevel\u001b[0m\u001b[1;33m(\u001b[0m\u001b[0mkey\u001b[0m\u001b[1;33m)\u001b[0m\u001b[1;33m\u001b[0m\u001b[1;33m\u001b[0m\u001b[0m\n\u001b[1;32m-> 2902\u001b[1;33m             \u001b[0mindexer\u001b[0m \u001b[1;33m=\u001b[0m \u001b[0mself\u001b[0m\u001b[1;33m.\u001b[0m\u001b[0mcolumns\u001b[0m\u001b[1;33m.\u001b[0m\u001b[0mget_loc\u001b[0m\u001b[1;33m(\u001b[0m\u001b[0mkey\u001b[0m\u001b[1;33m)\u001b[0m\u001b[1;33m\u001b[0m\u001b[1;33m\u001b[0m\u001b[0m\n\u001b[0m\u001b[0;32m   2903\u001b[0m             \u001b[1;32mif\u001b[0m \u001b[0mis_integer\u001b[0m\u001b[1;33m(\u001b[0m\u001b[0mindexer\u001b[0m\u001b[1;33m)\u001b[0m\u001b[1;33m:\u001b[0m\u001b[1;33m\u001b[0m\u001b[1;33m\u001b[0m\u001b[0m\n\u001b[0;32m   2904\u001b[0m                 \u001b[0mindexer\u001b[0m \u001b[1;33m=\u001b[0m \u001b[1;33m[\u001b[0m\u001b[0mindexer\u001b[0m\u001b[1;33m]\u001b[0m\u001b[1;33m\u001b[0m\u001b[1;33m\u001b[0m\u001b[0m\n",
      "\u001b[1;32m~\\Anaconda3\\envs\\datavis\\lib\\site-packages\\pandas\\core\\indexes\\base.py\u001b[0m in \u001b[0;36mget_loc\u001b[1;34m(self, key, method, tolerance)\u001b[0m\n\u001b[0;32m   2891\u001b[0m                 \u001b[1;32mreturn\u001b[0m \u001b[0mself\u001b[0m\u001b[1;33m.\u001b[0m\u001b[0m_engine\u001b[0m\u001b[1;33m.\u001b[0m\u001b[0mget_loc\u001b[0m\u001b[1;33m(\u001b[0m\u001b[0mcasted_key\u001b[0m\u001b[1;33m)\u001b[0m\u001b[1;33m\u001b[0m\u001b[1;33m\u001b[0m\u001b[0m\n\u001b[0;32m   2892\u001b[0m             \u001b[1;32mexcept\u001b[0m \u001b[0mKeyError\u001b[0m \u001b[1;32mas\u001b[0m \u001b[0merr\u001b[0m\u001b[1;33m:\u001b[0m\u001b[1;33m\u001b[0m\u001b[1;33m\u001b[0m\u001b[0m\n\u001b[1;32m-> 2893\u001b[1;33m                 \u001b[1;32mraise\u001b[0m \u001b[0mKeyError\u001b[0m\u001b[1;33m(\u001b[0m\u001b[0mkey\u001b[0m\u001b[1;33m)\u001b[0m \u001b[1;32mfrom\u001b[0m \u001b[0merr\u001b[0m\u001b[1;33m\u001b[0m\u001b[1;33m\u001b[0m\u001b[0m\n\u001b[0m\u001b[0;32m   2894\u001b[0m \u001b[1;33m\u001b[0m\u001b[0m\n\u001b[0;32m   2895\u001b[0m         \u001b[1;32mif\u001b[0m \u001b[0mtolerance\u001b[0m \u001b[1;32mis\u001b[0m \u001b[1;32mnot\u001b[0m \u001b[1;32mNone\u001b[0m\u001b[1;33m:\u001b[0m\u001b[1;33m\u001b[0m\u001b[1;33m\u001b[0m\u001b[0m\n",
      "\u001b[1;31mKeyError\u001b[0m: 'TRANSACTION_DATE'"
     ]
    }
   ],
   "source": [
    "#df_oxy_ga = pd.read_csv('DATA_READY' + '/df_oxy_ga.csv')\n",
    "\n",
    "url = 'https://drive.google.com/file/d/1hXr7Q8bdCq1AzkRNC8SXgbppwGDdZFrd/view?usp=sharing'\n",
    "path = 'https://drive.google.com/uc?export=download&id='+url.split('/')[-2]\n",
    "df_oxy_ga = pd.read_csv(path)\n",
    "\n",
    "df_oxy_2010_ga = df_oxy_ga.loc[df_oxy_ga['TRANSACTION_DATE'] == 2010]\n",
    "df_oxy_2011_ga = df_oxy_ga.loc[df_oxy_ga['TRANSACTION_DATE'] == 2011]\n",
    "df_oxy_2012_ga = df_oxy_ga.loc[df_oxy_ga['TRANSACTION_DATE'] == 2012]\n",
    "df_oxy_2013_ga = df_oxy_ga.loc[df_oxy_ga['TRANSACTION_DATE'] == 2013]\n",
    "df_oxy_2014_ga = df_oxy_ga.loc[df_oxy_ga['TRANSACTION_DATE'] == 2014]\n",
    "\n",
    "sum_oxy_2010_ga = sum(df_oxy_2010_ga['QUANTITY'])\n",
    "sum_oxy_2011_ga = sum(df_oxy_2011_ga['QUANTITY'])\n",
    "sum_oxy_2012_ga = sum(df_oxy_2012_ga['QUANTITY'])\n",
    "sum_oxy_2013_ga = sum(df_oxy_2013_ga['QUANTITY'])\n",
    "sum_oxy_2014_ga = sum(df_oxy_2014_ga['QUANTITY'])\n",
    "\n",
    "oxy_ga = [sum_oxy_2010_ga,sum_oxy_2011_ga,sum_oxy_2012_ga,sum_oxy_2013_ga,sum_oxy_2014_ga]\n",
    "\n",
    " \n",
    "url = 'https://drive.google.com/file/d/1XNBkBJwOeF4Vo_BkFozF69abERJDoKAc/view?usp=sharing'\n",
    "path = 'https://drive.google.com/uc?export=download&id='+url.split('/')[-2]\n",
    "df_hyd_ga = pd.read_csv(path)\n",
    "\n",
    "df_hyd_2010_ga = df_hyd_ga.loc[df_hyd_ga['TRANSACTION_DATE'] == 2010]\n",
    "df_hyd_2011_ga = df_hyd_ga.loc[df_hyd_ga['TRANSACTION_DATE'] == 2011]\n",
    "df_hyd_2012_ga = df_hyd_ga.loc[df_hyd_ga['TRANSACTION_DATE'] == 2012]\n",
    "df_hyd_2013_ga = df_hyd_ga.loc[df_hyd_ga['TRANSACTION_DATE'] == 2013]\n",
    "df_hyd_2014_ga = df_hyd_ga.loc[df_hyd_ga['TRANSACTION_DATE'] == 2014]\n",
    "\n",
    "\n",
    "sum_hyd_2010_ga = sum(df_hyd_2010_ga['QUANTITY'])\n",
    "sum_hyd_2011_ga = sum(df_hyd_2011_ga['QUANTITY'])\n",
    "sum_hyd_2012_ga = sum(df_hyd_2012_ga['QUANTITY'])\n",
    "sum_hyd_2013_ga = sum(df_hyd_2013_ga['QUANTITY'])\n",
    "sum_hyd_2014_ga = sum(df_hyd_2014_ga['QUANTITY'])\n",
    "\n",
    "hyd_ga = [sum_hyd_2010_ga,sum_hyd_2011_ga,sum_hyd_2012_ga,sum_hyd_2013_ga,sum_hyd_2014_ga]"
   ]
  },
  {
   "cell_type": "markdown",
   "metadata": {},
   "source": [
    "# Mississipi"
   ]
  },
  {
   "cell_type": "markdown",
   "metadata": {},
   "source": [
    "Prepare Oxycodone and Hydrocodone files"
   ]
  },
  {
   "cell_type": "markdown",
   "metadata": {},
   "source": [
    "## The following cell couldn't run because I couldn't upload the file to Google Drive. In the next cell I read the filtered files"
   ]
  },
  {
   "cell_type": "markdown",
   "metadata": {},
   "source": [
    "df = pd.read_csv('arcos-ms-statewide-itemized.csv')\n",
    "\n",
    "df.drop(columns = ['REPORTER_DEA_NO','REPORTER_NAME','REPORTER_ADDL_CO_INFO','REPORTER_ADDRESS1','REPORTER_ADDRESS2','REPORTER_CITY',\n",
    "                  'REPORTER_STATE','REPORTER_ZIP','REPORTER_COUNTY','BUYER_DEA_NO','BUYER_BUS_ACT','REPORTER_BUS_ACT','BUYER_ADDL_CO_INFO',\n",
    "       'BUYER_ADDRESS1', 'BUYER_ADDRESS2', 'BUYER_CITY', 'BUYER_STATE',\n",
    "       'BUYER_ZIP', 'BUYER_COUNTY', 'TRANSACTION_CODE','CORRECTION_NO', 'STRENGTH','CALC_BASE_WT_IN_GM',\n",
    "                  'DOSAGE_UNIT', 'TRANSACTION_ID','Ingredient_Name',\n",
    "   'Measure', 'MME_Conversion_Factor', 'Combined_Labeler_Name','DRUG_CODE',\n",
    "       'Reporter_family', 'dos_str', 'MME','BUYER_NAME','UNIT','NDC_NO','ORDER_FORM_NO','ACTION_INDICATOR','Product_Name'],inplace = True)\n",
    "\n",
    "df_hyd = df.loc[df['DRUG_NAME'] == 'HYDROCODONE']\n",
    "df_oxy = df.loc[df['DRUG_NAME'] != 'HYDROCODONE']\n",
    "\n",
    "df_oxy.to_csv('df_oxy_ms.csv',index = False)\n",
    "df_hyd.to_csv('df_hyd_ms.csv',index = False)"
   ]
  },
  {
   "cell_type": "markdown",
   "metadata": {},
   "source": [
    "Split the files between ages and sum the quantities per year per Oxycodone and Hydrocodone"
   ]
  },
  {
   "cell_type": "code",
   "execution_count": 35,
   "metadata": {},
   "outputs": [],
   "source": [
    "url = 'https://drive.google.com/file/d/1mFCkK_x8R8BqGVjJ4b3y-Vuv9t-uwPJz/view?usp=sharing'\n",
    "path = 'https://drive.google.com/uc?export=download&id='+url.split('/')[-2]\n",
    "df_oxy_ms = pd.read_csv(path)\n",
    "\n",
    "df_oxy_2010_ms = df_oxy_ms.loc[df_oxy_ms['TRANSACTION_DATE'] == 2010]\n",
    "df_oxy_2011_ms = df_oxy_ms.loc[df_oxy_ms['TRANSACTION_DATE'] == 2011]\n",
    "df_oxy_2012_ms = df_oxy_ms.loc[df_oxy_ms['TRANSACTION_DATE'] == 2012]\n",
    "df_oxy_2013_ms = df_oxy_ms.loc[df_oxy_ms['TRANSACTION_DATE'] == 2013]\n",
    "df_oxy_2014_ms = df_oxy_ms.loc[df_oxy_ms['TRANSACTION_DATE'] == 2014]\n",
    "\n",
    "sum_oxy_2010_ms = sum(df_oxy_2010_ms['QUANTITY'])\n",
    "sum_oxy_2011_ms = sum(df_oxy_2011_ms['QUANTITY'])\n",
    "sum_oxy_2012_ms = sum(df_oxy_2012_ms['QUANTITY'])\n",
    "sum_oxy_2013_ms = sum(df_oxy_2013_ms['QUANTITY'])\n",
    "sum_oxy_2014_ms = sum(df_oxy_2014_ms['QUANTITY'])\n",
    "\n",
    "oxy_ms = [sum_oxy_2010_ms,sum_oxy_2011_ms,sum_oxy_2012_ms,sum_oxy_2013_ms,sum_oxy_2014_ms]\n",
    "\n",
    "\n",
    "url = 'https://drive.google.com/file/d/1WFUOVsCJDQrJF4ndvKmP60lT8DWRVmhi/view?usp=sharing'\n",
    "path = 'https://drive.google.com/uc?export=download&id='+url.split('/')[-2]\n",
    "df_hyd_ms = pd.read_csv(path)\n",
    "\n",
    "df_hyd_2010_ms = df_hyd_ms.loc[df_hyd_ms['TRANSACTION_DATE'] == 2010]\n",
    "df_hyd_2011_ms = df_hyd_ms.loc[df_hyd_ms['TRANSACTION_DATE'] == 2011]\n",
    "df_hyd_2012_ms = df_hyd_ms.loc[df_hyd_ms['TRANSACTION_DATE'] == 2012]\n",
    "df_hyd_2013_ms = df_hyd_ms.loc[df_hyd_ms['TRANSACTION_DATE'] == 2013]\n",
    "df_hyd_2014_ms = df_hyd_ms.loc[df_hyd_ms['TRANSACTION_DATE'] == 2014]\n",
    "\n",
    "\n",
    "sum_hyd_2010_ms = sum(df_hyd_2010_ms['QUANTITY'])\n",
    "sum_hyd_2011_ms = sum(df_hyd_2011_ms['QUANTITY'])\n",
    "sum_hyd_2012_ms = sum(df_hyd_2012_ms['QUANTITY'])\n",
    "sum_hyd_2013_ms = sum(df_hyd_2013_ms['QUANTITY'])\n",
    "sum_hyd_2014_ms = sum(df_hyd_2014_ms['QUANTITY'])\n",
    "\n",
    "hyd_ms = [sum_hyd_2010_ms,sum_hyd_2011_ms,sum_hyd_2012_ms,sum_hyd_2013_ms,sum_hyd_2014_ms]"
   ]
  },
  {
   "cell_type": "markdown",
   "metadata": {},
   "source": [
    "# Tennessee"
   ]
  },
  {
   "cell_type": "markdown",
   "metadata": {},
   "source": [
    "Prepare Oxycodone and Hydrocodone files"
   ]
  },
  {
   "cell_type": "markdown",
   "metadata": {},
   "source": [
    "## The following cell couldn't run because I couldn't upload the file to Google Drive. In the next cell I read the filtered files"
   ]
  },
  {
   "cell_type": "markdown",
   "metadata": {},
   "source": [
    "df = pd.read_csv('arcos-tn-statewide-itemized.csv')\n",
    "\n",
    "df.drop(columns = ['REPORTER_DEA_NO','REPORTER_NAME','REPORTER_ADDL_CO_INFO','REPORTER_ADDRESS1','REPORTER_ADDRESS2','REPORTER_CITY',\n",
    "                  'REPORTER_STATE','REPORTER_ZIP','REPORTER_COUNTY','BUYER_DEA_NO','BUYER_BUS_ACT','REPORTER_BUS_ACT','BUYER_ADDL_CO_INFO',\n",
    "       'BUYER_ADDRESS1', 'BUYER_ADDRESS2', 'BUYER_CITY', 'BUYER_STATE',\n",
    "       'BUYER_ZIP', 'BUYER_COUNTY', 'TRANSACTION_CODE','CORRECTION_NO', 'STRENGTH','CALC_BASE_WT_IN_GM',\n",
    "                  'DOSAGE_UNIT', 'TRANSACTION_ID','Ingredient_Name',\n",
    "   'Measure', 'MME_Conversion_Factor', 'Combined_Labeler_Name','DRUG_CODE',\n",
    "       'Reporter_family', 'dos_str', 'MME','BUYER_NAME','UNIT','NDC_NO','ORDER_FORM_NO','ACTION_INDICATOR','Product_Name'],inplace = True)\n",
    "\n",
    "df_hyd = df.loc[df['DRUG_NAME'] == 'HYDROCODONE']\n",
    "df_oxy = df.loc[df['DRUG_NAME'] != 'HYDROCODONE']\n",
    "\n",
    "df_oxy.to_csv('df_oxy_tn.csv',index = False)\n",
    "df_hyd.to_csv('df_hyd_tn.csv',index = False)"
   ]
  },
  {
   "cell_type": "markdown",
   "metadata": {},
   "source": [
    "Split the files between ages and sum the quantities per year per Oxycodone and Hydrocodone"
   ]
  },
  {
   "cell_type": "code",
   "execution_count": 36,
   "metadata": {},
   "outputs": [],
   "source": [
    "url = 'https://drive.google.com/file/d/1LdT9bT_WcUDIQKSWKtzg2KeG0USGbJxP/view?usp=sharing'\n",
    "path = 'https://drive.google.com/uc?export=download&id='+url.split('/')[-2]\n",
    "df_oxy_tn = pd.read_csv(path)\n",
    "\n",
    "df_oxy_2010_tn = df_oxy_tn.loc[df_oxy_tn['TRANSACTION_DATE'] == 2010]\n",
    "df_oxy_2011_tn = df_oxy_tn.loc[df_oxy_tn['TRANSACTION_DATE'] == 2011]\n",
    "df_oxy_2012_tn = df_oxy_tn.loc[df_oxy_tn['TRANSACTION_DATE'] == 2012]\n",
    "df_oxy_2013_tn = df_oxy_tn.loc[df_oxy_tn['TRANSACTION_DATE'] == 2013]\n",
    "df_oxy_2014_tn = df_oxy_tn.loc[df_oxy_tn['TRANSACTION_DATE'] == 2014]\n",
    "\n",
    "sum_oxy_2010_tn = sum(df_oxy_2010_tn['QUANTITY'])\n",
    "sum_oxy_2011_tn = sum(df_oxy_2011_tn['QUANTITY'])\n",
    "sum_oxy_2012_tn = sum(df_oxy_2012_tn['QUANTITY'])\n",
    "sum_oxy_2013_tn = sum(df_oxy_2013_tn['QUANTITY'])\n",
    "sum_oxy_2014_tn = sum(df_oxy_2014_tn['QUANTITY'])\n",
    "\n",
    "oxy_tn = [sum_oxy_2010_tn,sum_oxy_2011_tn,sum_oxy_2012_tn,sum_oxy_2013_tn,sum_oxy_2014_tn]\n",
    "\n",
    "\n",
    "url = 'https://drive.google.com/file/d/1OenfhUkvEbJ-2y8bnsfCIhsvjmNuu_Vl/view?usp=sharing'\n",
    "path = 'https://drive.google.com/uc?export=download&id='+url.split('/')[-2]\n",
    "df_hyd_tn = pd.read_csv(path)\n",
    "\n",
    "df_hyd_2010_tn = df_hyd_tn.loc[df_hyd_tn['TRANSACTION_DATE'] == 2010]\n",
    "df_hyd_2011_tn = df_hyd_tn.loc[df_hyd_tn['TRANSACTION_DATE'] == 2011]\n",
    "df_hyd_2012_tn = df_hyd_tn.loc[df_hyd_tn['TRANSACTION_DATE'] == 2012]\n",
    "df_hyd_2013_tn = df_hyd_tn.loc[df_hyd_tn['TRANSACTION_DATE'] == 2013]\n",
    "df_hyd_2014_tn = df_hyd_tn.loc[df_hyd_tn['TRANSACTION_DATE'] == 2014]\n",
    "\n",
    "\n",
    "sum_hyd_2010_tn = sum(df_hyd_2010_tn['QUANTITY'])\n",
    "sum_hyd_2011_tn = sum(df_hyd_2011_tn['QUANTITY'])\n",
    "sum_hyd_2012_tn = sum(df_hyd_2012_tn['QUANTITY'])\n",
    "sum_hyd_2013_tn = sum(df_hyd_2013_tn['QUANTITY'])\n",
    "sum_hyd_2014_tn = sum(df_hyd_2014_tn['QUANTITY'])\n",
    "\n",
    "hyd_tn = [sum_hyd_2010_tn,sum_hyd_2011_tn,sum_hyd_2012_tn,sum_hyd_2013_tn,sum_hyd_2014_tn]"
   ]
  },
  {
   "cell_type": "markdown",
   "metadata": {},
   "source": [
    "# Merge Dataframes"
   ]
  },
  {
   "cell_type": "code",
   "execution_count": 14,
   "metadata": {},
   "outputs": [],
   "source": [
    "final_data = pd.DataFrame()\n",
    "final_data = final_data.append(add_data)\n",
    "\n",
    "oxy_states = []\n",
    "oxy_states= [sum_oxy_2010_al,sum_oxy_2011_al,sum_oxy_2012_al,sum_oxy_2013_al,sum_oxy_2014_al,\n",
    "                 sum_oxy_2010_ga,sum_oxy_2011_ga,sum_oxy_2012_ga,sum_oxy_2013_ga,sum_oxy_2014_ga,\n",
    "                 sum_oxy_2010_ky,sum_oxy_2011_ky,sum_oxy_2012_ky,sum_oxy_2013_ky,sum_oxy_2014_ky,\n",
    "                 sum_oxy_2010_ms,sum_oxy_2011_ms,sum_oxy_2012_ms,sum_oxy_2013_ms,sum_oxy_2014_ms,\n",
    "                 sum_oxy_2010_tn,sum_oxy_2011_tn,sum_oxy_2012_tn,sum_oxy_2013_tn,sum_oxy_2014_tn]\n",
    "\n",
    "final_data['Oxycodone Pills'] = oxy_states\n",
    "\n",
    "hyd_states = []\n",
    "hyd_states= [sum_hyd_2010_al,sum_hyd_2011_al,sum_hyd_2012_al,sum_hyd_2013_al,sum_hyd_2014_al,\n",
    "                 sum_hyd_2010_ga,sum_hyd_2011_ga,sum_hyd_2012_ga,sum_hyd_2013_ga,sum_hyd_2014_ga,\n",
    "                 sum_hyd_2010_ky,sum_hyd_2011_ky,sum_hyd_2012_ky,sum_hyd_2013_ky,sum_hyd_2014_ky,\n",
    "                 sum_hyd_2010_ms,sum_hyd_2011_ms,sum_hyd_2012_ms,sum_hyd_2013_ms,sum_hyd_2014_ms,\n",
    "                 sum_hyd_2010_tn,sum_hyd_2011_tn,sum_hyd_2012_tn,sum_hyd_2013_tn,sum_hyd_2014_tn]\n",
    "\n",
    "final_data['Hydrocodone Pills'] = hyd_states\n",
    "\n",
    "\n",
    "final_data['Total Pills'] = final_data['Oxycodone Pills'] + final_data['Hydrocodone Pills']\n",
    "\n",
    "final_data.drop(columns = ['Population'],inplace=True)\n",
    "\n",
    "final_data['Mortality Rate'] = 0\n",
    "\n",
    "al_op_norm = final_data.loc[final_data['State'] == 'Alabama','Opioid Overdose Rate']\n",
    "al_op_norm = 1.1 + ( (al_op_norm-min(al_op_norm))/(max(al_op_norm) - min(al_op_norm)) )\n",
    "final_data.loc[final_data['State'] == 'Alabama','Mortality Rate'] = al_op_norm\n",
    "\n",
    "ga_op_norm = final_data.loc[final_data['State'] == 'Georgia','Opioid Overdose Rate']\n",
    "ga_op_norm = 1.1 + ( (ga_op_norm-min(ga_op_norm))/(max(ga_op_norm) - min(ga_op_norm)) )\n",
    "final_data.loc[final_data['State'] == 'Georgia','Mortality Rate'] = ga_op_norm\n",
    "\n",
    "ky_op_norm = final_data.loc[final_data['State'] == 'Kentucky','Opioid Overdose Rate']\n",
    "ky_op_norm = 1.1 + ( (ky_op_norm-min(ky_op_norm))/(max(ky_op_norm) - min(ky_op_norm)) )\n",
    "final_data.loc[final_data['State'] == 'Kentucky','Mortality Rate'] = ky_op_norm\n",
    "\n",
    "ms_op_norm = final_data.loc[final_data['State'] == 'Mississipi','Opioid Overdose Rate']\n",
    "ms_op_norm = 1.1 + ( (ms_op_norm-min(ms_op_norm))/(max(ms_op_norm) - min(ms_op_norm)) )\n",
    "final_data.loc[final_data['State'] == 'Mississipi','Mortality Rate'] = ms_op_norm\n",
    "\n",
    "tn_op_norm = final_data.loc[final_data['State'] == 'Tennessee','Opioid Overdose Rate']\n",
    "tn_op_norm = 1.1 + ( (tn_op_norm-min(tn_op_norm))/(max(tn_op_norm) - min(tn_op_norm)) )\n",
    "final_data.loc[final_data['State'] == 'Tennessee','Mortality Rate'] = tn_op_norm\n",
    "\n",
    "final_data['Mortality Rate'] = round(final_data['Mortality Rate'],2)\n",
    "\n",
    "\n",
    "# local copy\n",
    "# final_data.to_csv(data_rep + '/' + 'pills_consumption_over_year_cotton_belt.csv',index = False)"
   ]
  }
 ],
 "metadata": {
  "kernelspec": {
   "display_name": "Python 3",
   "language": "python",
   "name": "python3"
  },
  "language_info": {
   "codemirror_mode": {
    "name": "ipython",
    "version": 3
   },
   "file_extension": ".py",
   "mimetype": "text/x-python",
   "name": "python",
   "nbconvert_exporter": "python",
   "pygments_lexer": "ipython3",
   "version": "3.7.9"
  }
 },
 "nbformat": 4,
 "nbformat_minor": 4
}
